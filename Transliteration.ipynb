{
 "cells": [
  {
   "cell_type": "code",
   "execution_count": 67,
   "id": "251c27ee",
   "metadata": {},
   "outputs": [],
   "source": [
    "from indictrans import Transliterator\n",
    "trn = Transliterator(source='hin', target='eng', build_lookup=True)\n",
    "trn_rev = Transliterator(source='eng',target='hin',build_lookup=True)"
   ]
  },
  {
   "cell_type": "code",
   "execution_count": 68,
   "id": "f7245cd1",
   "metadata": {},
   "outputs": [],
   "source": [
    "sent = 'सबसे अच्छा प्रदर्शन करने वाले मॉडल एक ध्यान तंत्र के माध्यम से एन्कोडर और डिकोडर को भी जोड़ते हैं'"
   ]
  },
  {
   "cell_type": "code",
   "execution_count": 69,
   "id": "1a959ccc",
   "metadata": {},
   "outputs": [],
   "source": [
    "trans = trn.transform(sent)"
   ]
  },
  {
   "cell_type": "code",
   "execution_count": 70,
   "id": "1e8ee729",
   "metadata": {},
   "outputs": [
    {
     "data": {
      "text/plain": [
       "'sabase acha pradarshan karne vaale model ek dhyaan tantra ke madhyam se ancoder or dicoder ko bhi jodate hai'"
      ]
     },
     "execution_count": 70,
     "metadata": {},
     "output_type": "execute_result"
    }
   ],
   "source": [
    "trans"
   ]
  },
  {
   "cell_type": "code",
   "execution_count": 76,
   "id": "63b09546",
   "metadata": {},
   "outputs": [],
   "source": [
    "rev = trn_rev.transform(trans)"
   ]
  },
  {
   "cell_type": "code",
   "execution_count": 77,
   "id": "46c2198d",
   "metadata": {},
   "outputs": [
    {
     "data": {
      "text/plain": [
       "'सबसे अच्छा प्रदर्शन करने वाले मॉडल एक ध्यान तंत्र के माध्यम से एन्कोडर और डाइकोडर को भी जोड़ते हैं'"
      ]
     },
     "execution_count": 77,
     "metadata": {},
     "output_type": "execute_result"
    }
   ],
   "source": [
    "rev"
   ]
  },
  {
   "cell_type": "code",
   "execution_count": 23,
   "id": "3b78d442",
   "metadata": {},
   "outputs": [
    {
     "name": "stdout",
     "output_type": "stream",
     "text": [
      "Ground Truth : सबसे अच्छा प्रदर्शन करने वाले मॉडल एक ध्यान तंत्र के माध्यम से एन्कोडर और डिकोडर को भी जोड़ते हैं\n",
      "Transliterated sentence : sabase acha pradarshan karne vaale model ek dhyaan tantra ke madhyam se ancoder or dicoder ko bhi jodate hai\n",
      "Google Transliterate : sabase achchha pradarshan karane vaale modal ek dhyaan tantr ke maadhyam se enkodar aur dikodar ko bhee jodate hain\n",
      "Reverse Transliterated sentence : सबसे अच्छा प्रदर्शन करने वाले मॉडल एक ध्यान तंत्र के माध्यम से एन्कोडर और डाइकोडर को भी जोड़ते हैं\n"
     ]
    }
   ],
   "source": [
    "print(\"Ground Truth : \" + sent)\n",
    "print(\"Transliterated sentence : \" + trans)\n",
    "print('Google Transliterate : sabase achchha pradarshan karane vaale modal ek dhyaan tantr ke maadhyam se enkodar aur dikodar ko bhee jodate hain')\n",
    "print(\"Reverse Transliterated sentence : \" + rev)"
   ]
  },
  {
   "cell_type": "code",
   "execution_count": null,
   "id": "277df504",
   "metadata": {},
   "outputs": [],
   "source": []
  },
  {
   "cell_type": "code",
   "execution_count": 34,
   "id": "11331f3b",
   "metadata": {},
   "outputs": [],
   "source": [
    "#!pip install indic_transliteration"
   ]
  },
  {
   "cell_type": "code",
   "execution_count": 1,
   "id": "e3092f33",
   "metadata": {},
   "outputs": [],
   "source": [
    "from indic_transliteration import sanscript\n",
    "from indic_transliteration.sanscript import SchemeMap, SCHEMES, transliterate"
   ]
  },
  {
   "cell_type": "code",
   "execution_count": 61,
   "id": "264de31a",
   "metadata": {},
   "outputs": [],
   "source": [
    "data = 'सबसे अच्छा प्रदर्शन करने वाले मॉडल एक ध्यान तंत्र के माध्यम से एन्कोडर और डिकोडर को भी जोड़ते हैं'"
   ]
  },
  {
   "cell_type": "code",
   "execution_count": 73,
   "id": "55db731c",
   "metadata": {},
   "outputs": [],
   "source": [
    "trans_indic = transliterate(sent,sanscript.DEVANAGARI,sanscript.ITRANS)"
   ]
  },
  {
   "cell_type": "code",
   "execution_count": 74,
   "id": "cb68a5f5",
   "metadata": {},
   "outputs": [
    {
     "name": "stdout",
     "output_type": "stream",
     "text": [
      "sabase acha pradarshan karne vaale model ek dhyaan tantra ke madhyam se ancoder or dicoder ko bhi jodate hai\n"
     ]
    }
   ],
   "source": [
    "print(trans)"
   ]
  },
  {
   "cell_type": "code",
   "execution_count": 78,
   "id": "2b043d77",
   "metadata": {},
   "outputs": [],
   "source": [
    "rev_indic  = transliterate(trans_indic,sanscript.ITRANS,sanscript.DEVANAGARI)"
   ]
  },
  {
   "cell_type": "code",
   "execution_count": 65,
   "id": "4812cf16",
   "metadata": {},
   "outputs": [
    {
     "name": "stdout",
     "output_type": "stream",
     "text": [
      "सबसे अच्छा प्रदर्शन करने वाले मॉडल एक ध्यान तंत्र के माध्यम से एन्कोडर और डिकोडर को भी जोड़ते हैं\n"
     ]
    }
   ],
   "source": [
    "print(rev)"
   ]
  },
  {
   "cell_type": "code",
   "execution_count": 79,
   "id": "af96e892",
   "metadata": {},
   "outputs": [
    {
     "name": "stdout",
     "output_type": "stream",
     "text": [
      "Ground Truth : सबसे अच्छा प्रदर्शन करने वाले मॉडल एक ध्यान तंत्र के माध्यम से एन्कोडर और डिकोडर को भी जोड़ते हैं\n",
      "\n",
      "-----------------------------------------------------------------------------------------------\n",
      "\n",
      "IndicTrans : sabase acha pradarshan karne vaale model ek dhyaan tantra ke madhyam se ancoder or dicoder ko bhi jodate hai\n",
      "Indic-Transliteration : sabase achChA pradarshana karane vAle maॉDala eka dhyAna taMtra ke mAdhyama se enkoDara aura DikoDara ko bhI jo.Date haiM\n",
      "Google Transliterate : sabase achchha pradarshan karane vaale modal ek dhyaan tantr ke maadhyam se enkodar aur dikodar ko bhee jodate hain\n",
      "\n",
      "-----------------------------------------------------------------------------------------------\n",
      "\n",
      "Reverse IndicTrans sentence : सबसे अच्छा प्रदर्शन करने वाले मॉडल एक ध्यान तंत्र के माध्यम से एन्कोडर और डाइकोडर को भी जोड़ते हैं\n",
      "Reverse Indic-Transliteration sentence : सबसे अच्छा प्रदर्शन करने वाले मॉडल एक ध्यान तंत्र के माध्यम से एन्कोडर और डिकोडर को भी जोड़ते हैं\n"
     ]
    }
   ],
   "source": [
    "print(\"Ground Truth : \" + sent)\n",
    "print('\\n-----------------------------------------------------------------------------------------------\\n')\n",
    "print(\"IndicTrans : \" + trans)\n",
    "print('Indic-Transliteration : '+ trans_indic)\n",
    "print('Google Transliterate : sabase achchha pradarshan karane vaale modal ek dhyaan tantr ke maadhyam se enkodar aur dikodar ko bhee jodate hain')\n",
    "print('\\n-----------------------------------------------------------------------------------------------\\n')\n",
    "print(\"Reverse IndicTrans sentence : \" + rev)\n",
    "print(\"Reverse Indic-Transliteration sentence : \" + rev_indic)"
   ]
  },
  {
   "cell_type": "code",
   "execution_count": null,
   "id": "db4228b7",
   "metadata": {},
   "outputs": [],
   "source": []
  }
 ],
 "metadata": {
  "kernelspec": {
   "display_name": "Python 3 (ipykernel)",
   "language": "python",
   "name": "python3"
  },
  "language_info": {
   "codemirror_mode": {
    "name": "ipython",
    "version": 3
   },
   "file_extension": ".py",
   "mimetype": "text/x-python",
   "name": "python",
   "nbconvert_exporter": "python",
   "pygments_lexer": "ipython3",
   "version": "3.8.0"
  }
 },
 "nbformat": 4,
 "nbformat_minor": 5
}
